{
 "cells": [
  {
   "attachments": {},
   "cell_type": "markdown",
   "metadata": {},
   "source": [
    "# <center> Butter-E Dataset Notebooks: Join Energy Data </center>\n",
    "---\n",
    "\n",
    "\n",
    "This notebook joins butter_e_energy with butter_e_metadata.csv, adding a column to butter_e_metadata called \"kWh.\"\n",
    "\n",
    "There are also some data quality checks performed during the join which are written out to a csv file called `butter_e_metadata_join_energy_errors.csv`\n"
   ]
  },
  {
   "cell_type": "code",
   "execution_count": 1,
   "metadata": {},
   "outputs": [],
   "source": [
    "import pandas as pd\n",
    "import numpy as np\n",
    "import urllib.request as r\n",
    "import ssl\n",
    "import json\n",
    "from multiprocess import Pool\n",
    "from tqdm import *\n",
    "import matplotlib.pyplot as plt"
   ]
  },
  {
   "attachments": {},
   "cell_type": "markdown",
   "metadata": {},
   "source": [
    "## Join Metadata with Energy Data "
   ]
  },
  {
   "cell_type": "code",
   "execution_count": 2,
   "metadata": {},
   "outputs": [
    {
     "name": "stdout",
     "output_type": "stream",
     "text": [
      "Input count of runs: 64988\n",
      "Runs matching optimizer_energy_1_cpu batch to be removed: 23859\n",
      "Total count of runs: 41129\n"
     ]
    }
   ],
   "source": [
    "butter_e_metadata = pd.read_csv(\"data_inputs/butter_e_metadata.csv\")\n",
    "print(\"Input count of runs:\", len(butter_e_metadata))\n",
    "butter_e_metadata[\"start_time\"] = pd.to_datetime(butter_e_metadata[\"start_time\"])\n",
    "butter_e_metadata[\"update_time\"] = pd.to_datetime(butter_e_metadata[\"update_time\"])\n",
    "\n",
    "## We remove the optimizer_1_energy sweep, which was erroneously included in the dataset\n",
    "## The optimizer_energy_1_cpu batch skews the dataset towards depth=2 on CPU nodes and has data which looks inconsistent with the rest of the dataset.\n",
    "## Furthermore, this batch contains varying minibatch sizes, which is not part of the current study.\n",
    "optimizer_energy_1_cpu_batch = butter_e_metadata[\"batch\"] == \"optimizer_energy_1_cpu\"\n",
    "print(\n",
    "    f\"Runs matching optimizer_energy_1_cpu batch to be removed: {optimizer_energy_1_cpu_batch.sum()}\"\n",
    ")\n",
    "butter_e_metadata = (\n",
    "    butter_e_metadata[~optimizer_energy_1_cpu_batch].reset_index().drop(\"index\", axis=1)\n",
    ")\n",
    "\n",
    "print(\"Total count of runs:\", len(butter_e_metadata))"
   ]
  },
  {
   "cell_type": "code",
   "execution_count": 3,
   "metadata": {},
   "outputs": [],
   "source": [
    "errors = []\n",
    "results = []\n",
    "\n",
    "\n",
    "def get_energy_for(ix, baseline=False):\n",
    "    \"\"\"\n",
    "    This function can be run in parallel over all indices of butter_e_metadata.\n",
    "    \"\"\"\n",
    "\n",
    "    row = butter_e_metadata.loc[ix]\n",
    "\n",
    "    # Read energy data for this run from the butter_e_energy CSV\n",
    "    try:\n",
    "        butter_e_energy = pd.read_csv(\n",
    "            f\"data_inputs/butter_e_energy/{row['slurm_job_id']}.csv\"\n",
    "        )\n",
    "    except:\n",
    "        return (ix, \"No energy data found for given SLURM job id.\", None)\n",
    "\n",
    "    # Timestamp timezone conversion.\n",
    "    # The timestamps from HPCMon are recorded with a trailing \"Z\" - which Pandas interprets as UTC. So I am removing these Z to get the timestamps in timezone naieve format and then localizing them to US/Mountain.\n",
    "    butter_e_energy[\"timestamp\"] = pd.to_datetime(\n",
    "        butter_e_energy[\"timestamp\"].str[:-1]\n",
    "    ).dt.tz_localize(\"US/Mountain\")\n",
    "\n",
    "    # Find indices of data between start and end time\n",
    "    inds = (\n",
    "        (butter_e_energy[\"node\"] == row[\"host_name\"])\n",
    "        & (butter_e_energy[\"timestamp\"] >= row[\"start_time\"])\n",
    "        & (butter_e_energy[\"timestamp\"] <= row[\"update_time\"])\n",
    "    )\n",
    "\n",
    "    # Check if there is no data\n",
    "    if sum(inds) == 0:\n",
    "        return (ix, \"Missing all energy data points for this run.\", None)\n",
    "\n",
    "    # Check if the data was full\n",
    "    if (\n",
    "        sum(inds)\n",
    "        < (((row[\"update_time\"] - row[\"start_time\"]).total_seconds()) / 60) - 1\n",
    "    ):\n",
    "        return (ix, \"Missing at least one energy data point for this run.\", None)\n",
    "\n",
    "    first_ind = inds[inds].index[0]\n",
    "    last_ind = inds[inds].index[-1]\n",
    "\n",
    "    # Calculate partial energy for first and last minute\n",
    "    partial_first = (\n",
    "        butter_e_energy[\"timestamp\"].iloc[first_ind] - row[\"start_time\"]\n",
    "    ).total_seconds()\n",
    "    partial_last = (\n",
    "        row[\"update_time\"] - butter_e_energy[\"timestamp\"].iloc[last_ind]\n",
    "    ).total_seconds()\n",
    "\n",
    "    # Calculation assumes constant power between measurements\n",
    "    energy = butter_e_energy[\"watts\"].iloc[first_ind - 1] * partial_first\n",
    "    energy += butter_e_energy[\"watts\"].iloc[last_ind] * partial_last\n",
    "    energy += butter_e_energy[\"watts\"].iloc[first_ind:last_ind].sum() * 60\n",
    "\n",
    "    ## Check how many are zero:\n",
    "    if (butter_e_energy[\"watts\"].iloc[first_ind : last_ind + 1] == 0).sum() > 0:\n",
    "        return (\n",
    "            ix,\n",
    "            \"At least one of the energy measurements for this run was 0 watts.\",\n",
    "            None,\n",
    "        )\n",
    "\n",
    "    ## Convert to kWh\n",
    "    energy_kwh = energy / 3600 / 1000\n",
    "\n",
    "    return (ix, \"OK\", energy_kwh)"
   ]
  },
  {
   "cell_type": "code",
   "execution_count": 4,
   "metadata": {},
   "outputs": [
    {
     "name": "stderr",
     "output_type": "stream",
     "text": [
      "  0%|          | 0/41129 [00:00<?, ?it/s]"
     ]
    },
    {
     "name": "stderr",
     "output_type": "stream",
     "text": [
      "100%|██████████| 41129/41129 [00:24<00:00, 1672.87it/s]\n"
     ]
    }
   ],
   "source": [
    "results = []\n",
    "errors = []\n",
    "\n",
    "with Pool(processes=12) as p:\n",
    "    with tqdm(total=len(butter_e_metadata)) as pbar:\n",
    "        for ret in p.imap_unordered(get_energy_for, range(len(butter_e_metadata))):\n",
    "            # print(ret)\n",
    "            ix, status, energy = ret\n",
    "\n",
    "            if status == \"OK\":\n",
    "                results.append((ix, energy))\n",
    "            else:\n",
    "                errors.append((ix, status))\n",
    "            pbar.update()"
   ]
  },
  {
   "cell_type": "code",
   "execution_count": 5,
   "metadata": {},
   "outputs": [],
   "source": [
    "## Write out results\n",
    "results_df = pd.DataFrame(results, columns=[\"index\", \"energy\"]).set_index(\"index\")\n",
    "\n",
    "# merge with metadata\n",
    "butter_e_metadata_join_energy = pd.merge(\n",
    "    butter_e_metadata, results_df, left_index=True, right_index=True\n",
    ")\n",
    "# Drop the run_data column\n",
    "butter_e_metadata_join_energy.drop(\"run_data\", axis=1).to_csv(\n",
    "    \"data_artifacts/butter_e_metadata_join_energy.csv\", index=False\n",
    ")"
   ]
  },
  {
   "cell_type": "code",
   "execution_count": 6,
   "metadata": {},
   "outputs": [],
   "source": [
    "## Write out errors\n",
    "error_df = pd.DataFrame(errors, columns=[\"index\", \"error\"]).set_index(\"index\")\n",
    "\n",
    "butter_e_metadata_join_energy_errors = pd.merge(\n",
    "    butter_e_metadata, error_df, left_index=True, right_index=True\n",
    ")\n",
    "\n",
    "butter_e_metadata_join_energy_errors.drop(\"run_data\", axis=1).to_csv(\n",
    "    \"data_artifacts/butter_e_metadata_join_energy_error.csv\", index=False\n",
    ")"
   ]
  },
  {
   "attachments": {},
   "cell_type": "markdown",
   "metadata": {},
   "source": [
    "## Inspect Errors"
   ]
  },
  {
   "cell_type": "code",
   "execution_count": 7,
   "metadata": {},
   "outputs": [
    {
     "data": {
      "text/plain": [
       "error\n",
       "At least one of the energy measurements for this run was 0 watts.    470\n",
       "Missing all energy data points for this run.                         137\n",
       "Missing at least one energy data point for this run.                  14\n",
       "No energy data found for given SLURM job id.                          44\n",
       "Name: run_id, dtype: int64"
      ]
     },
     "execution_count": 7,
     "metadata": {},
     "output_type": "execute_result"
    }
   ],
   "source": [
    "error = pd.read_csv(\"data_artifacts/butter_e_metadata_join_energy_error.csv\")\n",
    "error.groupby(\"error\")[\"run_id\"].count()"
   ]
  },
  {
   "cell_type": "code",
   "execution_count": 8,
   "metadata": {},
   "outputs": [],
   "source": [
    "error[\"runtime\"] = pd.to_datetime(error[\"update_time\"]) - pd.to_datetime(\n",
    "    error[\"start_time\"]\n",
    ")"
   ]
  },
  {
   "cell_type": "code",
   "execution_count": 9,
   "metadata": {},
   "outputs": [
    {
     "data": {
      "text/plain": [
       "<Axes: >"
      ]
     },
     "execution_count": 9,
     "metadata": {},
     "output_type": "execute_result"
    },
    {
     "data": {
      "image/png": "[encoded data removed]",
      "text/plain": [
       "<Figure size 640x480 with 1 Axes>"
      ]
     },
     "metadata": {},
     "output_type": "display_data"
    }
   ],
   "source": [
    "# Plot the runtime distribution of the errors\n",
    "error[\"runtime\"].dt.seconds.hist()"
   ]
  },
  {
   "cell_type": "code",
   "execution_count": 10,
   "metadata": {},
   "outputs": [
    {
     "name": "stdout",
     "output_type": "stream",
     "text": [
      "Total errors 665\n",
      "Total successes 40464\n",
      "Sum of errors and successes match initial input\n",
      "Total count of runs: 41129\n",
      "==============\n"
     ]
    }
   ],
   "source": [
    "print(\"Total errors\", len(error))\n",
    "print(\"Total successes\", len(results))\n",
    "\n",
    "if len(butter_e_metadata) == len(results) + len(error):\n",
    "    print(\"Sum of errors and successes match initial input\")\n",
    "\n",
    "print(\"Total count of runs:\", len(butter_e_metadata))\n",
    "print(\"==============\")"
   ]
  },
  {
   "attachments": {},
   "cell_type": "markdown",
   "metadata": {},
   "source": [
    "<!-- ### No energy data found for given SLURM job id.\n",
    "\n",
    "- 123 such runs.\n",
    "- I manually hit hpcmon for a subsample of the slurm_job_ids, and verify that the API returns nothing. Just \"[]\".\n",
    "- TODO: Query hpcmon on yuma to see if these jobs were maybe cancelled quickly?\n",
    "\n",
    "### Missing all energy data points for this run.\n",
    "\n",
    "- 172 such runs\n",
    "- For example, 6b68e32a-9a73-4ee7-add1-6f5486ae0ac4\n",
    "    - Power data for SLURM job ID is (Timestamp('2022-09-26 08:20:02-0600', tz='US/Mountain'), Timestamp('2022-09-28 08:20:01-0600', tz='US/Mountain'))\n",
    "    - Job data is (Timestamp('2022-10-11 21:58:46.012741+0000', tz='UTC'), Timestamp('2022-10-11 23:29:06.356718+0000', tz='UTC'))\n",
    "\n",
    "### Missing at least one energy data point for this run. \n",
    "\n",
    "- Todo\n",
    "\n",
    "### At least one of the energy measurements for this run was 0 watts.\n",
    "\n",
    "- Todo\n",
    "\n",
    "### Other notes\n",
    "\n",
    "- end_time is always 2023-02-09, between 4 and 7:30AM\n",
    "\n",
    "I manually checked https://hpcmon-api.hpc.nrel.gov/api/eagle/jobs/10430519/power/raw and it really has zeros for wattage coming from the API. I checked files on Eagle and they are also zeros. -->"
   ]
  },
  {
   "cell_type": "code",
   "execution_count": 11,
   "metadata": {},
   "outputs": [
    {
     "data": {
      "text/plain": [
       "Text(0.5, 1.0, 'Distribution of erroneous runs by batch')"
      ]
     },
     "execution_count": 11,
     "metadata": {},
     "output_type": "execute_result"
    },
    {
     "data": {
      "image/png": "[encoded data removed]",
      "text/plain": [
       "<Figure size 640x480 with 1 Axes>"
      ]
     },
     "metadata": {},
     "output_type": "display_data"
    }
   ],
   "source": [
    "error[\"batch\"].hist()\n",
    "plt.xticks(rotation=-45, ha=\"left\")\n",
    "plt.title(\"Distribution of erroneous runs by batch\")"
   ]
  }
 ],
 "metadata": {
  "kernelspec": {
   "display_name": "base",
   "language": "python",
   "name": "python3"
  },
  "language_info": {
   "codemirror_mode": {
    "name": "ipython",
    "version": 3
   },
   "file_extension": ".py",
   "mimetype": "text/x-python",
   "name": "python",
   "nbconvert_exporter": "python",
   "pygments_lexer": "ipython3",
   "version": "3.9.16"
  },
  "orig_nbformat": 4
 },
 "nbformat": 4,
 "nbformat_minor": 2
}
